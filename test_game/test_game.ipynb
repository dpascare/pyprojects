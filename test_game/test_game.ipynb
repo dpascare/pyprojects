{
 "cells": [
  {
   "cell_type": "code",
   "execution_count": 2,
   "id": "f9ad9f05",
   "metadata": {},
   "outputs": [],
   "source": [
    "class Main_Character():\n",
    "\n",
    "    def __init__(self):\n",
    "        self.health=100\n",
    "        self.exp=0    \n",
    "        self.level=0\n",
    "        self.character_name=\"\"\n",
    "        self.characters_known={None}\n",
    "        self.pets={None}\n",
    "        self.progression_tracker=0\n",
    "\n",
    "    def __str__(self):\n",
    "        return \"Name: \"+ str(self.character_name)+\"  |  \"+ \"Health:\"+ str(self.health) + \"  |  \" +\"XP:\"+ str(self.exp) + \"  |  \"+ \"Level:\"+ str(self.level)+\"  |  \"+\"Pets:\"+str(self.pets)\n",
    "\n",
    "    def Char_Name(self,name):\n",
    "        if name.isalpha()==False:\n",
    "            print(\"You entered a name containing non-alphabetic characters, pease reenter a new name:\")\n",
    "            main()\n",
    "        elif len(name)>=10:\n",
    "            print(\"You entered a name containing 10 or more characters, pease reenter a new name:\")\n",
    "            main()\n",
    "        else:\n",
    "            self.character_name=name\n",
    "\n",
    "\n",
    "    def Char_Level_Experience(self,exp,b):\n",
    "        self.exp+=exp\n",
    "        b=2\n",
    "        if exp<=0:\n",
    "            exp=1\n",
    "        ans = 1\n",
    "        level=0\n",
    "        while ans<exp:\n",
    "            ans *= b\n",
    "            level += 1\n",
    "        if ans == exp:\n",
    "            self.level=level\n",
    "            print(\"You have reached level\", self.level)\n",
    "        else:\n",
    "            level = int(log(exp, 2))\n",
    "            level = min(level, exp) \n",
    "            if level>=0:\n",
    "                self.level=level\n",
    "            else:\n",
    "                level=0\n",
    "\n",
    "\n",
    "    def healing(self,heal):\n",
    "        if self.health+heal>=100:\n",
    "            self.health=100\n",
    "        else:\n",
    "            self.health+=heal\n",
    "\n",
    "\n",
    "    def other_answers(answer):\n",
    "        if answer=='quit':\n",
    "            raise SystemExit\n",
    "        if answer=='pets':\n",
    "            print(\"Pets owned:\", Main_Character().pets)\n",
    "            user_decision=input(\"Would you like to continue where you left off?    Type 'yes' to continue, or 'no' to go back to main menu\")\n",
    "            if user_decision=='yes':\n",
    "                if Main_Character().progression_tracker==0:\n",
    "                    main()\n",
    "                elif Main_Character().progression_tracker==1:\n",
    "                    choice1()\n",
    "            if user_decision=='no':\n",
    "                    main()\n",
    "            else:\n",
    "                other_answers(user_decision)\n",
    "        if answer=='characters':\n",
    "            print(\"Characters met:\", Main_Character().characters_known)\n",
    "            user_decision=input(\"Would you like to continue where you left off? Type 'yes' to continue, or 'no' to go back to main menu:\")\n",
    "            if user_decision=='yes':\n",
    "                if Main_Character().progression_tracker==0:\n",
    "                    main()\n",
    "                if Main_Character().progression_tracker==1:\n",
    "                    choice1()\n",
    "            if user_decision=='no':\n",
    "                    main()\n",
    "            else:\n",
    "                other_answers(user_decision)\n",
    "\n",
    "    def start_check():\n",
    "        print(\"If you understand the game, type 'go' to continue- if not, type 'more information' to receive more information about how to play the game\")\n",
    "        begin_game=input(\"\")\n",
    "        if begin_game==\"go\":\n",
    "            choice1()\n",
    "        if begin_game=='more information':\n",
    "            print(\"\\n\",\"The object of the game is to gain XP [experience points] without dying\")\n",
    "            start_check()\n",
    "        else:\n",
    "            other_answers(begin_game)\n",
    "\n",
    "    def choice1():\n",
    "        Main_Character().progression_tracker=1\n",
    "        print(\"You are a knight in the Kings Guard- the King has asked to meet with you about a very special mission\")\n",
    "        print(\"What would you like to do?\")\n",
    "        print(\"  1.Go Directly to King\",\"\\n\", \"2. Finish your dinner\")\n",
    "        choice=input(\"1 or 2?\")\n",
    "        if choice==\"1\":\n",
    "            Main_Character().Char_Level_Experience(1,2)\n",
    "        elif choice==\"2\":\n",
    "            Main_Character().Char_Level_Experience(.5,2)\n",
    "        else:\n",
    "            other_answers(choice)\n",
    "        print(Main_Character())\n"
   ]
  },
  {
   "cell_type": "code",
   "execution_count": 16,
   "id": "3a31d310",
   "metadata": {},
   "outputs": [],
   "source": [
    "test_char = Main_Character()"
   ]
  },
  {
   "cell_type": "code",
   "execution_count": 23,
   "id": "ec6fc95b",
   "metadata": {},
   "outputs": [],
   "source": [
    "def main(): \n",
    "    print(\"Welcome!\")\n",
    "    my_character = Main_Character()\n",
    "    unfiltered_name=input(\"Please enter the name of your character:\")\n",
    "    my_character.Char_Name(unfiltered_name)\n",
    "    print(\"Welcome,\", my_character.character_name,\"!\", \"Here are your current stats!\")\n",
    "    print(my_character)\n",
    "    return my_character"
   ]
  },
  {
   "cell_type": "code",
   "execution_count": 25,
   "id": "cf2fd679",
   "metadata": {},
   "outputs": [
    {
     "name": "stdout",
     "output_type": "stream",
     "text": [
      "Welcome!\n",
      "Please enter the name of your character:is me mario\n",
      "You entered a name containing non-alphabetic characters, pease reenter a new name:\n",
      "Welcome!\n",
      "Please enter the name of your character:Is me mario\n",
      "You entered a name containing non-alphabetic characters, pease reenter a new name:\n",
      "Welcome!\n",
      "Please enter the name of your character:Ismemario\n",
      "Welcome, Ismemario ! Here are your current stats!\n",
      "Name: Ismemario  |  Health:100  |  XP:0  |  Level:0  |  Pets:{None}\n",
      "Welcome,  ! Here are your current stats!\n",
      "Name:   |  Health:100  |  XP:0  |  Level:0  |  Pets:{None}\n",
      "Welcome,  ! Here are your current stats!\n",
      "Name:   |  Health:100  |  XP:0  |  Level:0  |  Pets:{None}\n"
     ]
    }
   ],
   "source": [
    "new_char = main()"
   ]
  },
  {
   "cell_type": "code",
   "execution_count": 28,
   "id": "e822f1ee",
   "metadata": {},
   "outputs": [
    {
     "data": {
      "text/plain": [
       "<bound method Main_Character.choice1 of <__main__.Main_Character object at 0x0000025D1590E700>>"
      ]
     },
     "execution_count": 28,
     "metadata": {},
     "output_type": "execute_result"
    }
   ],
   "source": [
    "new_char.choice1"
   ]
  },
  {
   "cell_type": "code",
   "execution_count": 19,
   "id": "106904ab",
   "metadata": {},
   "outputs": [],
   "source": [
    "test_char.Char_Name('Monkey')"
   ]
  },
  {
   "cell_type": "code",
   "execution_count": 31,
   "id": "73d479aa",
   "metadata": {},
   "outputs": [
    {
     "ename": "TypeError",
     "evalue": "Char_Name() missing 1 required positional argument: 'name'",
     "output_type": "error",
     "traceback": [
      "\u001b[1;31m---------------------------------------------------------------------------\u001b[0m",
      "\u001b[1;31mTypeError\u001b[0m                                 Traceback (most recent call last)",
      "\u001b[1;32m~\\AppData\\Local\\Temp/ipykernel_10712/394841115.py\u001b[0m in \u001b[0;36m<module>\u001b[1;34m\u001b[0m\n\u001b[1;32m----> 1\u001b[1;33m \u001b[0mprint\u001b[0m\u001b[1;33m(\u001b[0m\u001b[0mtest_char\u001b[0m\u001b[1;33m.\u001b[0m\u001b[0mChar_Name\u001b[0m\u001b[1;33m(\u001b[0m\u001b[1;33m)\u001b[0m\u001b[1;33m)\u001b[0m\u001b[1;33m\u001b[0m\u001b[1;33m\u001b[0m\u001b[0m\n\u001b[0m",
      "\u001b[1;31mTypeError\u001b[0m: Char_Name() missing 1 required positional argument: 'name'"
     ]
    }
   ],
   "source": [
    "test_char."
   ]
  },
  {
   "cell_type": "code",
   "execution_count": 8,
   "id": "37de851a",
   "metadata": {},
   "outputs": [
    {
     "ename": "AttributeError",
     "evalue": "type object 'Main_Character' has no attribute 'choice'",
     "output_type": "error",
     "traceback": [
      "\u001b[1;31m---------------------------------------------------------------------------\u001b[0m",
      "\u001b[1;31mAttributeError\u001b[0m                            Traceback (most recent call last)",
      "\u001b[1;32m~\\AppData\\Local\\Temp/ipykernel_10712/995625661.py\u001b[0m in \u001b[0;36m<module>\u001b[1;34m\u001b[0m\n\u001b[1;32m----> 1\u001b[1;33m \u001b[0mMain_Character\u001b[0m\u001b[1;33m.\u001b[0m\u001b[0mchoice\u001b[0m\u001b[1;33m(\u001b[0m\u001b[1;33m)\u001b[0m\u001b[1;33m\u001b[0m\u001b[1;33m\u001b[0m\u001b[0m\n\u001b[0m",
      "\u001b[1;31mAttributeError\u001b[0m: type object 'Main_Character' has no attribute 'choice'"
     ]
    }
   ],
   "source": [
    "Main_Character.choice()"
   ]
  },
  {
   "cell_type": "code",
   "execution_count": null,
   "id": "ae269941",
   "metadata": {},
   "outputs": [],
   "source": []
  },
  {
   "cell_type": "code",
   "execution_count": null,
   "id": "9302bdbb",
   "metadata": {},
   "outputs": [],
   "source": []
  },
  {
   "cell_type": "code",
   "execution_count": null,
   "id": "fca95f83",
   "metadata": {},
   "outputs": [],
   "source": [
    "my_character = Main_Character()\n",
    "unfiltered_name=input(\"Please enter the name of your character:\")\n",
    "my_character.Char_Name(unfiltered_name)\n",
    "print(\"Welcome,\", my_character.character_name,\"!\", \"Here are your current stats!\")\n",
    "print(my_character)"
   ]
  }
 ],
 "metadata": {
  "kernelspec": {
   "display_name": "Python 3 (ipykernel)",
   "language": "python",
   "name": "python3"
  },
  "language_info": {
   "codemirror_mode": {
    "name": "ipython",
    "version": 3
   },
   "file_extension": ".py",
   "mimetype": "text/x-python",
   "name": "python",
   "nbconvert_exporter": "python",
   "pygments_lexer": "ipython3",
   "version": "3.9.7"
  }
 },
 "nbformat": 4,
 "nbformat_minor": 5
}
