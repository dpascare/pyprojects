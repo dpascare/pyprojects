{
 "cells": [
  {
   "cell_type": "code",
   "execution_count": null,
   "id": "5febcfb3",
   "metadata": {},
   "outputs": [],
   "source": [
    "import requests"
   ]
  },
  {
   "cell_type": "code",
   "execution_count": null,
   "id": "4db4015f",
   "metadata": {},
   "outputs": [],
   "source": [
    "import sys"
   ]
  },
  {
   "cell_type": "code",
   "execution_count": null,
   "id": "dec3d38c",
   "metadata": {},
   "outputs": [],
   "source": [
    "import quandl"
   ]
  },
  {
   "cell_type": "code",
   "execution_count": null,
   "id": "8994ba95",
   "metadata": {},
   "outputs": [],
   "source": [
    "import pandas as pd"
   ]
  },
  {
   "cell_type": "code",
   "execution_count": null,
   "id": "9cb2aefc",
   "metadata": {},
   "outputs": [],
   "source": [
    "api_key = 'w8xxGN3q89Fs23bCFBB-'"
   ]
  },
  {
   "cell_type": "code",
   "execution_count": null,
   "id": "8455dec1",
   "metadata": {},
   "outputs": [],
   "source": [
    "quandl.ApiConfig.api_key = api_key"
   ]
  },
  {
   "cell_type": "code",
   "execution_count": null,
   "id": "61599c6e",
   "metadata": {},
   "outputs": [],
   "source": [
    "meta_map = quandl.get_table('WB/METADATA', paginate=True)"
   ]
  },
  {
   "cell_type": "code",
   "execution_count": null,
   "id": "4a0707ad",
   "metadata": {},
   "outputs": [],
   "source": [
    "usca_data = quandl.get_table('WB/DATA', country_code='USA,CAN',paginate=True)"
   ]
  },
  {
   "cell_type": "code",
   "execution_count": null,
   "id": "8ed3d4f9",
   "metadata": {},
   "outputs": [],
   "source": [
    "meta_map[['series_id','name']].values.tolist()"
   ]
  },
  {
   "cell_type": "code",
   "execution_count": null,
   "id": "f21e778b",
   "metadata": {},
   "outputs": [],
   "source": [
    "merged_world_bank = meta_map.merge(usca_data,on='series_id',how='inner')"
   ]
  },
  {
   "cell_type": "code",
   "execution_count": null,
   "id": "ac5d4697",
   "metadata": {},
   "outputs": [],
   "source": [
    "merged_world_bank.loc[\n",
    "    ((merged_world_bank['series_id']=='VC.IHR.PSRC.P5')\n",
    "    & (merged_world_bank['country_code']=='USA')),['year','value']\n",
    "]"
   ]
  },
  {
   "cell_type": "code",
   "execution_count": null,
   "id": "e691fadd",
   "metadata": {},
   "outputs": [],
   "source": []
  },
  {
   "cell_type": "code",
   "execution_count": null,
   "id": "02475b21",
   "metadata": {},
   "outputs": [],
   "source": []
  }
 ],
 "metadata": {
  "kernelspec": {
   "display_name": "Python 3.9.7 ('base')",
   "language": "python",
   "name": "python3"
  },
  "language_info": {
   "codemirror_mode": {
    "name": "ipython",
    "version": 3
   },
   "file_extension": ".py",
   "mimetype": "text/x-python",
   "name": "python",
   "nbconvert_exporter": "python",
   "pygments_lexer": "ipython3",
   "version": "3.9.7"
  },
  "vscode": {
   "interpreter": {
    "hash": "63a08f5cb09b09b388a6eac1d6dc7fdc9ccccb4d806ff9b6a9e79e9441b362a6"
   }
  }
 },
 "nbformat": 4,
 "nbformat_minor": 5
}
