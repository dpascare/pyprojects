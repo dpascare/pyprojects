{
 "cells": [
  {
   "cell_type": "code",
   "execution_count": null,
   "id": "865fb60f",
   "metadata": {},
   "outputs": [],
   "source": [
    "import requests\n",
    "import logging\n",
    "import os\n",
    "import sys\n",
    "import pandas as pd"
   ]
  },
  {
   "cell_type": "code",
   "execution_count": 1,
   "id": "a947bfbe",
   "metadata": {},
   "outputs": [],
   "source": [
    "#bls gov test\n",
    "#Get inflation stats and make a graph\n",
    "#make flask app to visualize (local but eventually host)"
   ]
  }
 ],
 "metadata": {
  "kernelspec": {
   "display_name": "Python 3.9.7 ('base')",
   "language": "python",
   "name": "python3"
  },
  "language_info": {
   "codemirror_mode": {
    "name": "ipython",
    "version": 3
   },
   "file_extension": ".py",
   "mimetype": "text/x-python",
   "name": "python",
   "nbconvert_exporter": "python",
   "pygments_lexer": "ipython3",
   "version": "3.9.7"
  },
  "vscode": {
   "interpreter": {
    "hash": "63a08f5cb09b09b388a6eac1d6dc7fdc9ccccb4d806ff9b6a9e79e9441b362a6"
   }
  }
 },
 "nbformat": 4,
 "nbformat_minor": 5
}
